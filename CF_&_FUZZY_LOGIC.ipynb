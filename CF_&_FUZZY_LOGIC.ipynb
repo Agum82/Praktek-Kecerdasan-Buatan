{
  "nbformat": 4,
  "nbformat_minor": 0,
  "metadata": {
    "colab": {
      "provenance": [],
      "authorship_tag": "ABX9TyNt2vJ8CcLta2vMzndb9E1m",
      "include_colab_link": true
    },
    "kernelspec": {
      "name": "python3",
      "display_name": "Python 3"
    },
    "language_info": {
      "name": "python"
    }
  },
  "cells": [
    {
      "cell_type": "markdown",
      "metadata": {
        "id": "view-in-github",
        "colab_type": "text"
      },
      "source": [
        "<a href=\"https://colab.research.google.com/github/Agum82/Praktek-Kecerdasan-Buatan/blob/main/CF_%26_FUZZY_LOGIC.ipynb\" target=\"_parent\"><img src=\"https://colab.research.google.com/assets/colab-badge.svg\" alt=\"Open In Colab\"/></a>"
      ]
    },
    {
      "cell_type": "markdown",
      "source": [
        "**CF**"
      ],
      "metadata": {
        "id": "vnIp-_N8ywld"
      }
    },
    {
      "cell_type": "code",
      "execution_count": 2,
      "metadata": {
        "colab": {
          "base_uri": "https://localhost:8080/"
        },
        "id": "AvwnLdWTyXVb",
        "outputId": "1120683d-bced-4260-f7b9-65a84070f7b1"
      },
      "outputs": [
        {
          "output_type": "stream",
          "name": "stdout",
          "text": [
            "🔹 CF Awal: 0.976\n",
            "🔹 CF Setelah 'demam'=0.2: 0.904\n",
            "\n",
            "💬 Komentar:\n",
            "Mengubah nilai 'demam' dari 0.8 menjadi 0.2 menurunkan CF total secara signifikan.\n",
            "Karena CF dihitung dengan kombinasi bertingkat, perubahan besar pada satu gejala akan memengaruhi total.\n",
            "\n",
            "🔹 CF Setelah tambah 5 gejala: 0.9993\n",
            "\n",
            "💬 Komentar:\n",
            "Penambahan gejala baru membuat CF total meningkat karena lebih banyak informasi mendukung diagnosis.\n"
          ]
        }
      ],
      "source": [
        "\n",
        "gejala = {\n",
        "    \"demam\": 0.8,\n",
        "    \"batuk\": 0.6,\n",
        "    \"pilek\": 0.7\n",
        "}\n",
        "\n",
        "# Fungsi menghitung CF total dengan metode kombinasi\n",
        "def hitung_cf(gejala_dict):\n",
        "    cf_total = 0\n",
        "    for cf in gejala_dict.values():\n",
        "        cf_total = cf_total + cf * (1 - cf_total)\n",
        "    return round(cf_total, 4)\n",
        "\n",
        "# 💡 Awal\n",
        "print(\"🔹 CF Awal:\", hitung_cf(gejala))\n",
        "\n",
        "# 💡 Eksperimen: ubah nilai 'demam' menjadi 0.2\n",
        "gejala[\"demam\"] = 0.2\n",
        "print(\"🔹 CF Setelah 'demam'=0.2:\", hitung_cf(gejala))\n",
        "\n",
        "# ✍️ Penjelasan:\n",
        "print(\"\\n💬 Komentar:\")\n",
        "print(\"Mengubah nilai 'demam' dari 0.8 menjadi 0.2 menurunkan CF total secara signifikan.\")\n",
        "print(\"Karena CF dihitung dengan kombinasi bertingkat, perubahan besar pada satu gejala akan memengaruhi total.\")\n",
        "\n",
        "# 💡 Tambah 5 gejala baru\n",
        "gejala.update({\n",
        "    \"sakit_kepala\": 0.5,\n",
        "    \"mual\": 0.6,\n",
        "    \"lelah\": 0.7,\n",
        "    \"nyeri_otot\": 0.4,\n",
        "    \"tenggorokan_sakit\": 0.8\n",
        "})\n",
        "print(\"\\n🔹 CF Setelah tambah 5 gejala:\", hitung_cf(gejala))\n",
        "\n",
        "print(\"\\n💬 Komentar:\")\n",
        "print(\"Penambahan gejala baru membuat CF total meningkat karena lebih banyak informasi mendukung diagnosis.\")\n"
      ]
    },
    {
      "cell_type": "markdown",
      "source": [
        "**FUZZY LOGIC**"
      ],
      "metadata": {
        "id": "Hu_9YYnNzNTJ"
      }
    },
    {
      "cell_type": "code",
      "source": [
        "!pip install scikit-fuzzy"
      ],
      "metadata": {
        "colab": {
          "base_uri": "https://localhost:8080/"
        },
        "id": "3kQzvecvzIdO",
        "outputId": "af1f48a9-0e31-45ba-e6b5-9a0432765780"
      },
      "execution_count": 3,
      "outputs": [
        {
          "output_type": "stream",
          "name": "stdout",
          "text": [
            "Collecting scikit-fuzzy\n",
            "  Downloading scikit_fuzzy-0.5.0-py2.py3-none-any.whl.metadata (2.6 kB)\n",
            "Downloading scikit_fuzzy-0.5.0-py2.py3-none-any.whl (920 kB)\n",
            "\u001b[?25l   \u001b[90m━━━━━━━━━━━━━━━━━━━━━━━━━━━━━━━━━━━━━━━━\u001b[0m \u001b[32m0.0/920.8 kB\u001b[0m \u001b[31m?\u001b[0m eta \u001b[36m-:--:--\u001b[0m\r\u001b[2K   \u001b[91m━━━━━━━━━━━━━━━━━━━━━\u001b[0m\u001b[91m╸\u001b[0m\u001b[90m━━━━━━━━━━━━━━━━━━\u001b[0m \u001b[32m501.8/920.8 kB\u001b[0m \u001b[31m15.8 MB/s\u001b[0m eta \u001b[36m0:00:01\u001b[0m\r\u001b[2K   \u001b[90m━━━━━━━━━━━━━━━━━━━━━━━━━━━━━━━━━━━━━━━━\u001b[0m \u001b[32m920.8/920.8 kB\u001b[0m \u001b[31m17.0 MB/s\u001b[0m eta \u001b[36m0:00:00\u001b[0m\n",
            "\u001b[?25hInstalling collected packages: scikit-fuzzy\n",
            "Successfully installed scikit-fuzzy-0.5.0\n"
          ]
        }
      ]
    },
    {
      "cell_type": "code",
      "source": [
        "# ================================\n",
        "# ✅ Fuzzy Logic Section\n",
        "# ================================\n",
        "\n",
        "# Install fuzzy logic lib\n",
        "!pip install -q scikit-fuzzy\n",
        "\n",
        "import numpy as np\n",
        "import skfuzzy as fuzz\n",
        "from skfuzzy import control as ctrl\n",
        "\n",
        "# Definisi variabel fuzzy\n",
        "input_suhu = ctrl.Antecedent(np.arange(0, 41, 1), 'suhu')\n",
        "kelembaban = ctrl.Antecedent(np.arange(0, 101, 1), 'kelembaban')\n",
        "kenyamanan = ctrl.Consequent(np.arange(0, 11, 1), 'kenyamanan')\n",
        "\n",
        "# Membership functions\n",
        "input_suhu['dingin'] = fuzz.trimf(input_suhu.universe, [0, 0, 20])\n",
        "input_suhu['nyaman'] = fuzz.trimf(input_suhu.universe, [18, 24, 30])\n",
        "input_suhu['panas'] = fuzz.trimf(input_suhu.universe, [28, 40, 40])\n",
        "\n",
        "kelembaban['kering'] = fuzz.trimf(kelembaban.universe, [0, 0, 40])\n",
        "kelembaban['normal'] = fuzz.trimf(kelembaban.universe, [30, 50, 70])\n",
        "kelembaban['lembab'] = fuzz.trimf(kelembaban.universe, [60, 100, 100])\n",
        "\n",
        "kenyamanan['tidak_nyaman'] = fuzz.trimf(kenyamanan.universe, [0, 0, 5])\n",
        "kenyamanan['nyaman'] = fuzz.trimf(kenyamanan.universe, [3, 5, 7])\n",
        "kenyamanan['sangat_nyaman'] = fuzz.trimf(kenyamanan.universe, [6, 10, 10])\n",
        "\n",
        "# Aturan fuzzy\n",
        "rule1 = ctrl.Rule(input_suhu['nyaman'] & kelembaban['normal'], kenyamanan['sangat_nyaman'])\n",
        "rule2 = ctrl.Rule(input_suhu['panas'] & kelembaban['lembab'], kenyamanan['tidak_nyaman'])\n",
        "rule3 = ctrl.Rule(input_suhu['dingin'] & kelembaban['kering'], kenyamanan['nyaman'])\n",
        "\n",
        "# Sistem kontrol fuzzy\n",
        "kenyamanan_ctrl = ctrl.ControlSystem([rule1, rule2, rule3])\n",
        "simulasi = ctrl.ControlSystemSimulation(kenyamanan_ctrl)\n",
        "\n",
        "# 💡 Ubah suhu menjadi 22°C dan kelembaban 55%\n",
        "simulasi.input['suhu'] = 22\n",
        "simulasi.input['kelembaban'] = 55\n",
        "simulasi.compute()\n",
        "\n",
        "print(\"🔹 Output Kenyamanan:\", round(simulasi.output['kenyamanan'], 2))\n",
        "\n",
        "# 💬 Komentar:\n",
        "print(\"\\n💬 Komentar:\")\n",
        "print(\"Suhu 22°C termasuk dalam kategori 'nyaman' dengan kelembaban normal, sehingga kenyamanan tinggi.\")\n",
        "\n",
        "# 🔍 Mengecek keanggotaan suhu 28°C di 'Nyaman' dan 'Panas'\n",
        "suhu_nyaman = fuzz.interp_membership(input_suhu.universe, input_suhu['nyaman'].mf, 28)\n",
        "suhu_panas = fuzz.interp_membership(input_suhu.universe, input_suhu['panas'].mf, 28)\n",
        "\n",
        "print(f\"\\n🔎 Derajat keanggotaan suhu 28°C:\")\n",
        "print(f\" - Nyaman : {round(suhu_nyaman, 2)}\")\n",
        "print(f\" - Panas  : {round(suhu_panas, 2)}\")\n",
        "\n",
        "print(\"\\n💬 Komentar:\")\n",
        "print(\"Suhu 28°C masuk dalam dua kategori sekaligus (fuzzy overlap), yaitu 'Nyaman' dan 'Panas'.\")\n",
        "print(\"Ini menunjukkan fleksibilitas logika fuzzy dalam menangani ambiguitas.\")\n"
      ],
      "metadata": {
        "colab": {
          "base_uri": "https://localhost:8080/"
        },
        "id": "FGaB2ipszZvy",
        "outputId": "1468b2dc-5188-46fe-8adf-45f73bffe895"
      },
      "execution_count": 4,
      "outputs": [
        {
          "output_type": "stream",
          "name": "stdout",
          "text": [
            "🔹 Output Kenyamanan: 8.56\n",
            "\n",
            "💬 Komentar:\n",
            "Suhu 22°C termasuk dalam kategori 'nyaman' dengan kelembaban normal, sehingga kenyamanan tinggi.\n",
            "\n",
            "🔎 Derajat keanggotaan suhu 28°C:\n",
            " - Nyaman : 0.33\n",
            " - Panas  : 0.0\n",
            "\n",
            "💬 Komentar:\n",
            "Suhu 28°C masuk dalam dua kategori sekaligus (fuzzy overlap), yaitu 'Nyaman' dan 'Panas'.\n",
            "Ini menunjukkan fleksibilitas logika fuzzy dalam menangani ambiguitas.\n"
          ]
        }
      ]
    }
  ]
}