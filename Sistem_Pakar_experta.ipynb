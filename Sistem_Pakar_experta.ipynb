{
  "nbformat": 4,
  "nbformat_minor": 0,
  "metadata": {
    "colab": {
      "provenance": [],
      "authorship_tag": "ABX9TyMPgRHhDtY6NVIQRz8Mz/ip",
      "include_colab_link": true
    },
    "kernelspec": {
      "name": "python3",
      "display_name": "Python 3"
    },
    "language_info": {
      "name": "python"
    }
  },
  "cells": [
    {
      "cell_type": "markdown",
      "metadata": {
        "id": "view-in-github",
        "colab_type": "text"
      },
      "source": [
        "<a href=\"https://colab.research.google.com/github/Agum82/Praktek-Kecerdasan-Buatan/blob/main/Sistem_Pakar_experta.ipynb\" target=\"_parent\"><img src=\"https://colab.research.google.com/assets/colab-badge.svg\" alt=\"Open In Colab\"/></a>"
      ]
    },
    {
      "cell_type": "code",
      "execution_count": 1,
      "metadata": {
        "colab": {
          "base_uri": "https://localhost:8080/"
        },
        "id": "SwC66Mk1502o",
        "outputId": "2d96be62-6592-400d-ee85-e934e15518c0"
      },
      "outputs": [
        {
          "output_type": "stream",
          "name": "stdout",
          "text": [
            "Collecting experta\n",
            "  Downloading experta-1.9.4-py3-none-any.whl.metadata (5.0 kB)\n",
            "Collecting frozendict==1.2 (from experta)\n",
            "  Downloading frozendict-1.2.tar.gz (2.6 kB)\n",
            "  Preparing metadata (setup.py) ... \u001b[?25l\u001b[?25hdone\n",
            "Collecting schema==0.6.7 (from experta)\n",
            "  Downloading schema-0.6.7-py2.py3-none-any.whl.metadata (14 kB)\n",
            "Downloading experta-1.9.4-py3-none-any.whl (35 kB)\n",
            "Downloading schema-0.6.7-py2.py3-none-any.whl (14 kB)\n",
            "Building wheels for collected packages: frozendict\n",
            "  Building wheel for frozendict (setup.py) ... \u001b[?25l\u001b[?25hdone\n",
            "  Created wheel for frozendict: filename=frozendict-1.2-py3-none-any.whl size=3149 sha256=9cfed66e9fa8b6863635f71bc2f0b29266dcde33dcdb0d94afecc677a321816f\n",
            "  Stored in directory: /root/.cache/pip/wheels/49/ac/f8/cb8120244e710bdb479c86198b03c7b08c3c2d3d2bf448fd6e\n",
            "Successfully built frozendict\n",
            "Installing collected packages: schema, frozendict, experta\n",
            "  Attempting uninstall: frozendict\n",
            "    Found existing installation: frozendict 2.4.6\n",
            "    Uninstalling frozendict-2.4.6:\n",
            "      Successfully uninstalled frozendict-2.4.6\n",
            "\u001b[31mERROR: pip's dependency resolver does not currently take into account all the packages that are installed. This behaviour is the source of the following dependency conflicts.\n",
            "yfinance 0.2.55 requires frozendict>=2.3.4, but you have frozendict 1.2 which is incompatible.\u001b[0m\u001b[31m\n",
            "\u001b[0mSuccessfully installed experta-1.9.4 frozendict-1.2 schema-0.6.7\n"
          ]
        }
      ],
      "source": [
        "!pip install experta"
      ]
    },
    {
      "cell_type": "code",
      "source": [
        "!pip install --upgrade frozendict"
      ],
      "metadata": {
        "colab": {
          "base_uri": "https://localhost:8080/"
        },
        "id": "WwuZJCdB6Cii",
        "outputId": "cf566f88-8cfb-4a9b-c455-1cac55587da0"
      },
      "execution_count": 2,
      "outputs": [
        {
          "output_type": "stream",
          "name": "stdout",
          "text": [
            "Requirement already satisfied: frozendict in /usr/local/lib/python3.11/dist-packages (1.2)\n",
            "Collecting frozendict\n",
            "  Downloading frozendict-2.4.6-py311-none-any.whl.metadata (23 kB)\n",
            "Downloading frozendict-2.4.6-py311-none-any.whl (16 kB)\n",
            "Installing collected packages: frozendict\n",
            "  Attempting uninstall: frozendict\n",
            "    Found existing installation: frozendict 1.2\n",
            "    Uninstalling frozendict-1.2:\n",
            "      Successfully uninstalled frozendict-1.2\n",
            "\u001b[31mERROR: pip's dependency resolver does not currently take into account all the packages that are installed. This behaviour is the source of the following dependency conflicts.\n",
            "experta 1.9.4 requires frozendict==1.2, but you have frozendict 2.4.6 which is incompatible.\u001b[0m\u001b[31m\n",
            "\u001b[0mSuccessfully installed frozendict-2.4.6\n"
          ]
        }
      ]
    },
    {
      "cell_type": "code",
      "source": [
        "from experta import *\n",
        "\n",
        "class Diagnosis(KnowledgeEngine):\n",
        "\n",
        "    @Rule(Fact(cough=True) & Fact(fever=True) & Fact(fatigue=True))\n",
        "    def flu(self):\n",
        "        print(\"Diagnosis: You may have the flu.\")\n",
        "\n",
        "    @Rule(Fact(cough=True) & Fact(fever=True) & Fact(breathing_difficulty=True))\n",
        "    def pneumonia(self):\n",
        "        print(\"Diagnosis: You may have pneumonia.\")\n",
        "\n",
        "    @Rule(Fact(sneezing=True) & Fact(runny_nose=True) & Fact(cough=False))\n",
        "    def cold(self):\n",
        "        print(\"Diagnosis: You may have a common cold.\")\n",
        "\n",
        "    @Rule(Fact(sore_throat=True) & Fact(fever=True))\n",
        "    def throat_infection(self):\n",
        "        print(\"Diagnosis: You may have a throat infection.\")\n",
        "\n",
        "    @Rule(Fact(cough=False) & Fact(fever=False) & Fact(fatigue=False))\n",
        "    def healthy(self):\n",
        "        print(\"Diagnosis: You seem to be healthy.\")\n",
        "\n",
        "    # PENYAKIT TAMBAHAN:\n",
        "\n",
        "    @Rule(Fact(fever=True) & Fact(cough=True) & Fact(breathing_difficulty=True) & Fact(fatigue=True) & Fact(sore_throat=True))\n",
        "    def covid(self):\n",
        "        print(\"Diagnosis: You may have COVID-19.\")\n",
        "\n",
        "    @Rule(Fact(sneezing=True) & Fact(runny_nose=True) & Fact(cough=True) & Fact(fever=False))\n",
        "    def allergy(self):\n",
        "        print(\"Diagnosis: You may have an allergy.\")\n",
        "\n",
        "    @Rule(Fact(cough=True) & Fact(breathing_difficulty=True) & Fact(fatigue=True) & Fact(fever=False))\n",
        "    def asthma(self):\n",
        "        print(\"Diagnosis: You may have asthma.\")\n",
        "\n",
        "    @Rule(Fact(fever=True) & Fact(fatigue=True) & Fact(headache=True) & Fact(rash=True))\n",
        "    def dengue(self):\n",
        "        print(\"Diagnosis: You may have dengue (demam berdarah).\")\n",
        "\n",
        "def get_input():\n",
        "    \"\"\"Helper Function to get user input as boolean (yes/no).\"\"\"\n",
        "    def ask_question(question):\n",
        "        return input(question + \" (yes/no): \").strip().lower() == \"yes\"\n",
        "\n",
        "    return {\n",
        "        \"cough\": ask_question(\"Do you have a cough?\"),\n",
        "        \"fever\": ask_question(\"Do you have a fever?\"),\n",
        "        \"fatigue\": ask_question(\"Do you feel fatigued?\"),\n",
        "        \"breathing_difficulty\": ask_question(\"Do you have breathing difficulty?\"),\n",
        "        \"sneezing\": ask_question(\"Are you sneezing?\"),\n",
        "        \"runny_nose\": ask_question(\"Do you have a runny nose?\"),\n",
        "        \"sore_throat\": ask_question(\"Do you have a sore throat?\"),\n",
        "        \"headache\": ask_question(\"Do you have a headache?\"),\n",
        "        \"rash\": ask_question(\"Do you have skin rashes?\"),\n",
        "    }\n",
        "\n",
        "if __name__ == \"__main__\":\n",
        "    symptoms = get_input()\n",
        "    engine = Diagnosis()\n",
        "    engine.reset()\n",
        "\n",
        "    for symptom, present in symptoms.items():\n",
        "        engine.declare(Fact(**{symptom: present}))\n",
        "\n",
        "    engine.run()\n"
      ],
      "metadata": {
        "colab": {
          "base_uri": "https://localhost:8080/"
        },
        "id": "aEodZgkL6QGh",
        "outputId": "00745fc1-6131-4db5-94d2-eac61326e9cf"
      },
      "execution_count": 3,
      "outputs": [
        {
          "output_type": "stream",
          "name": "stdout",
          "text": [
            "Do you have a cough? (yes/no): yes\n",
            "Do you have a fever? (yes/no): no\n",
            "Do you feel fatigued? (yes/no): yes\n",
            "Do you have breathing difficulty? (yes/no): yes\n",
            "Are you sneezing? (yes/no): yes\n",
            "Do you have a runny nose? (yes/no): yes\n",
            "Do you have a sore throat? (yes/no): no\n",
            "Do you have a headache? (yes/no): no\n",
            "Do you have skin rashes? (yes/no): no\n",
            "Diagnosis: You may have an allergy.\n",
            "Diagnosis: You may have asthma.\n"
          ]
        }
      ]
    },
    {
      "cell_type": "code",
      "source": [
        "from experta import *\n",
        "\n",
        "class SistemPakarMedis(KnowledgeEngine):\n",
        "\n",
        "    @Rule(Fact(demam=True) & Fact(batuk=True))\n",
        "    def flu(self):\n",
        "        print(\"Diagnosis: Flu.\")\n",
        "\n",
        "    @Rule(Fact(sakit_tenggorokan=True) & Fact(demam=True))\n",
        "    def throat_infection(self):\n",
        "        print(\"Diagnosis: Radang Tenggorokan.\")\n",
        "\n",
        "    @Rule(Fact(nyeri_otot=True) & Fact(nyeri_perut=True))\n",
        "    def hernia(self):\n",
        "        print(\"Diagnosis: Hernia. Innalillahi.\")\n",
        "\n",
        "    @Rule(Fact(demam=True) & Fact(batuk=True) & Fact(sesak_napas=True) & Fact(kehilangan_penciuman=True))\n",
        "    def covid19(self):\n",
        "        print(\"Diagnosis: COVID-19.\")\n",
        "\n",
        "    @Rule(Fact(bersin=True) & Fact(hidung_berair=True) & Fact(gatal_mata=True))\n",
        "    def alergi(self):\n",
        "        print(\"Diagnosis: Alergi.\")\n",
        "\n",
        "    @Rule(Fact(batuk=True) & Fact(sesak_napas=True) & Fact(dada_tertekan=True))\n",
        "    def asma(self):\n",
        "        print(\"Diagnosis: Asma.\")\n",
        "\n",
        "    @Rule(Fact(demam=True) & Fact(nyeri_otot=True) & Fact(bintik_merah=True) & Fact(sakit_kepala=True))\n",
        "    def demam_berdarah(self):\n",
        "        print(\"Diagnosis: Demam Berdarah (Dengue).\")\n",
        "\n",
        "    @Rule(Fact(sakit_kepala=True) & Fact(mual=True) & Fact(sensitif_cahaya=True))\n",
        "    def migrain(self):\n",
        "        print(\"Diagnosis: Migrain.\")\n",
        "\n",
        "    @Rule(Fact(demam=True) & Fact(mual=True) & Fact(nyeri_perut=True) & Fact(lemas=True))\n",
        "    def tifus(self):\n",
        "        print(\"Diagnosis: Tifus.\")\n",
        "\n",
        "if __name__ == \"__main__\":\n",
        "    engine = SistemPakarMedis()\n",
        "    engine.reset()\n",
        "\n",
        "    # Contoh untuk mengetes rule tifus:\n",
        "    engine.declare(Fact(demam=True))\n",
        "    engine.declare(Fact(mual=True))\n",
        "    engine.declare(Fact(nyeri_perut=True))\n",
        "    engine.declare(Fact(lemas=True))\n",
        "\n",
        "    engine.run()\n"
      ],
      "metadata": {
        "colab": {
          "base_uri": "https://localhost:8080/"
        },
        "id": "wQQomsFE6w5H",
        "outputId": "61520175-fa23-4169-9f9d-37cd6db2f23c"
      },
      "execution_count": 4,
      "outputs": [
        {
          "output_type": "stream",
          "name": "stdout",
          "text": [
            "Diagnosis: Tifus.\n"
          ]
        }
      ]
    }
  ]
}