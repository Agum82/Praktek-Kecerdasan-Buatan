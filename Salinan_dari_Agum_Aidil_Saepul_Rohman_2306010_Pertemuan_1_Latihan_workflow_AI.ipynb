{
  "nbformat": 4,
  "nbformat_minor": 0,
  "metadata": {
    "colab": {
      "provenance": [],
      "authorship_tag": "ABX9TyMMDIEHdoTcAC92KarZq5g5",
      "include_colab_link": true
    },
    "kernelspec": {
      "name": "python3",
      "display_name": "Python 3"
    },
    "language_info": {
      "name": "python"
    }
  },
  "cells": [
    {
      "cell_type": "markdown",
      "metadata": {
        "id": "view-in-github",
        "colab_type": "text"
      },
      "source": [
        "<a href=\"https://colab.research.google.com/github/Agum82/Praktek-Kecerdasan-Buatan/blob/main/Salinan_dari_Agum_Aidil_Saepul_Rohman_2306010_Pertemuan_1_Latihan_workflow_AI.ipynb\" target=\"_parent\"><img src=\"https://colab.research.google.com/assets/colab-badge.svg\" alt=\"Open In Colab\"/></a>"
      ]
    },
    {
      "cell_type": "code",
      "execution_count": null,
      "metadata": {
        "colab": {
          "base_uri": "https://localhost:8080/"
        },
        "id": "XP2yjuaUogUq",
        "outputId": "cc10dd52-2df2-4bc3-cccc-ab5677786de8"
      },
      "outputs": [
        {
          "output_type": "stream",
          "name": "stdout",
          "text": [
            "File CSV Berhasil dibuat dan Disimpan Sebagai 'data_penjualan.csv'!\n"
          ]
        }
      ],
      "source": [
        "import pandas as pd\n",
        "data = {\n",
        "    \"Tanggal\": [\"2025-02-01\", \"2025-02-02\", \"2025-02-3\", \"2025-02-04\", \"2025-02-05\"],\n",
        "    \"Produk\": [\"Minyak Goreng\", \"Beras\", \"Gula\", \"Tepung\", \"Mie Instan\" ],\n",
        "    \"Jumlah Terjual\": [10, 5, 7, 3, 12],\n",
        "    \"Stok\": [20, 15, 8, 13, 16],\n",
        "    \"Harga Satuan\": [15000, 12000, 13000, 11000, 3000],\n",
        "\n",
        "}\n",
        "df = pd.DataFrame(data)\n",
        "df.to_csv(\"data_penjualan.csv\", index=False)\n",
        "\n",
        "print(\"File CSV Berhasil dibuat dan Disimpan Sebagai 'data_penjualan.csv'!\")\n"
      ]
    },
    {
      "cell_type": "code",
      "source": [
        "df = pd.read_csv(\"data_penjualan.csv\")\n",
        "print(df.head())\n"
      ],
      "metadata": {
        "colab": {
          "base_uri": "https://localhost:8080/"
        },
        "id": "YdTGrMApo6KG",
        "outputId": "08ade566-d0dc-415b-c76d-42d9d4bd6982"
      },
      "execution_count": null,
      "outputs": [
        {
          "output_type": "stream",
          "name": "stdout",
          "text": [
            "      Tanggal         Produk  Jumlah Terjual  Stok  Harga Satuan\n",
            "0  2025-02-01  Minyak Goreng              10    20         15000\n",
            "1  2025-02-02          Beras               5    15         12000\n",
            "2   2025-02-3           Gula               7     8         13000\n",
            "3  2025-02-04         Tepung               3    13         11000\n",
            "4  2025-02-05     Mie Instan              12    16          3000\n"
          ]
        }
      ]
    },
    {
      "cell_type": "code",
      "source": [
        "print(df.isnull().sum())\n",
        "df [\"Tanggal\"] = pd.to_datetime(df[\"Tanggal\"])\n",
        "df [\"Total penjualan\"] = df[\"Jumlah Terjual\"] * df[\"Harga Satuan\"]\n",
        "df [\"Keuntungan\"] = df[\"Total penjualan\"] - (df[\"Jumlah Terjual\"] * 10000)\n",
        "print(df.head())"
      ],
      "metadata": {
        "colab": {
          "base_uri": "https://localhost:8080/"
        },
        "id": "m6alrZ0-p3YC",
        "outputId": "dbec1645-e1cf-45d8-9a3b-747415595c44"
      },
      "execution_count": null,
      "outputs": [
        {
          "output_type": "stream",
          "name": "stdout",
          "text": [
            "Tanggal           0\n",
            "Produk            0\n",
            "Jumlah Terjual    0\n",
            "Stok              0\n",
            "Harga Satuan      0\n",
            "dtype: int64\n",
            "     Tanggal         Produk  Jumlah Terjual  Stok  Harga Satuan  \\\n",
            "0 2025-02-01  Minyak Goreng              10    20         15000   \n",
            "1 2025-02-02          Beras               5    15         12000   \n",
            "2 2025-02-03           Gula               7     8         13000   \n",
            "3 2025-02-04         Tepung               3    13         11000   \n",
            "4 2025-02-05     Mie Instan              12    16          3000   \n",
            "\n",
            "   Total penjualan  Keuntungan  \n",
            "0           150000       50000  \n",
            "1            60000       10000  \n",
            "2            91000       21000  \n",
            "3            33000        3000  \n",
            "4            36000      -84000  \n"
          ]
        }
      ]
    },
    {
      "cell_type": "code",
      "source": [
        "!pip install scikit-learn"
      ],
      "metadata": {
        "colab": {
          "base_uri": "https://localhost:8080/"
        },
        "id": "wtsLkFrnsKyY",
        "outputId": "0716b5df-e2e7-4dbc-b882-b25ef58c291e"
      },
      "execution_count": null,
      "outputs": [
        {
          "output_type": "stream",
          "name": "stdout",
          "text": [
            "Requirement already satisfied: scikit-learn in /usr/local/lib/python3.11/dist-packages (1.6.1)\n",
            "Requirement already satisfied: numpy>=1.19.5 in /usr/local/lib/python3.11/dist-packages (from scikit-learn) (1.26.4)\n",
            "Requirement already satisfied: scipy>=1.6.0 in /usr/local/lib/python3.11/dist-packages (from scikit-learn) (1.13.1)\n",
            "Requirement already satisfied: joblib>=1.2.0 in /usr/local/lib/python3.11/dist-packages (from scikit-learn) (1.4.2)\n",
            "Requirement already satisfied: threadpoolctl>=3.1.0 in /usr/local/lib/python3.11/dist-packages (from scikit-learn) (3.5.0)\n"
          ]
        }
      ]
    },
    {
      "cell_type": "code",
      "source": [
        "from sklearn.model_selection import train_test_split\n",
        "from sklearn.tree import DecisionTreeClassifier\n",
        "from sklearn.metrics import accuracy_score\n",
        "\n",
        "x = df[[\"Jumlah Terjual\", \"Stok\"]]\n",
        "y = (df[\"Stok\"] < 5).astype(int)\n",
        "\n",
        "x_train, x_test, y_train, y_test = train_test_split(x, y, test_size=0.2, random_state=42)\n",
        "\n",
        "model = DecisionTreeClassifier()\n",
        "model.fit(x_train, y_train)\n",
        "\n",
        "y_pred = model.predict(x_test)\n",
        "print(\"Akurasi Model:\", accuracy_score(y_test, y_pred))\n"
      ],
      "metadata": {
        "colab": {
          "base_uri": "https://localhost:8080/"
        },
        "id": "td-4nLlfsYjE",
        "outputId": "185a5df1-9e5e-446e-e2b4-3309253c1da5"
      },
      "execution_count": null,
      "outputs": [
        {
          "output_type": "stream",
          "name": "stdout",
          "text": [
            "Akurasi Model: 1.0\n"
          ]
        }
      ]
    },
    {
      "cell_type": "code",
      "source": [
        "produk_baru = [[8, 3]]\n",
        "prediksi = model.predict(produk_baru)\n",
        "\n",
        "if prediksi[0] == 1:\n",
        "  print(\"produk perlu di-restock!\")\n",
        "else:\n",
        "    print(\"Stok masih cukup.\")"
      ],
      "metadata": {
        "colab": {
          "base_uri": "https://localhost:8080/"
        },
        "id": "o69vDmczvaNr",
        "outputId": "91028a46-a396-4bd4-ce94-62df52f0257c"
      },
      "execution_count": null,
      "outputs": [
        {
          "output_type": "stream",
          "name": "stdout",
          "text": [
            "Stok masih cukup.\n"
          ]
        },
        {
          "output_type": "stream",
          "name": "stderr",
          "text": [
            "/usr/local/lib/python3.11/dist-packages/sklearn/utils/validation.py:2739: UserWarning: X does not have valid feature names, but DecisionTreeClassifier was fitted with feature names\n",
            "  warnings.warn(\n"
          ]
        }
      ]
    },
    {
      "cell_type": "code",
      "source": [
        "import matplotlib.pyplot as plt\n",
        "\n",
        "plt.scatter(df[\"Jumlah Terjual\"], df[\"Stok\"], c=df[\"Keuntungan\"], cmap=\"coolwarm\")\n",
        "plt.xlabel(\"Jumlah Terjual\")\n",
        "plt.ylabel(\"Stok\")\n",
        "plt.title(\"Analisis Penjualan dan Stok\")\n",
        "plt.colorbar(label=\"Keuntungan\")\n",
        "plt.show()\n"
      ],
      "metadata": {
        "colab": {
          "base_uri": "https://localhost:8080/",
          "height": 472
        },
        "id": "CqzswoUzwXL3",
        "outputId": "28eb4f65-427c-4378-d513-99bc80b38471"
      },
      "execution_count": null,
      "outputs": [
        {
          "output_type": "display_data",
          "data": {
            "text/plain": [
              "<Figure size 640x480 with 2 Axes>"
            ],
            "image/png": "[encoded data removed]"
          },
          "metadata": {}
        }
      ]
    }
  ]
}